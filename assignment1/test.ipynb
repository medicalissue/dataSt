{
 "cells": [
  {
   "cell_type": "code",
   "execution_count": 26,
   "metadata": {},
   "outputs": [],
   "source": [
    "import numpy as np\n",
    "import time\n",
    "import matplotlib.pyplot as plt\n",
    "from tqdm.notebook import tqdm, trange\n",
    "\n",
    "np.random.seed(20240454)"
   ]
  },
  {
   "cell_type": "code",
   "execution_count": null,
   "metadata": {},
   "outputs": [
    {
     "data": {
      "application/vnd.jupyter.widget-view+json": {
       "model_id": "bb672c10a2d0427cbebb854d9fc6412a",
       "version_major": 2,
       "version_minor": 0
      },
      "text/plain": [
       "  0%|          | 0/1000 [00:00<?, ?it/s]"
      ]
     },
     "metadata": {},
     "output_type": "display_data"
    },
    {
     "data": {
      "application/vnd.jupyter.widget-view+json": {
       "model_id": "b673a512cada447597f30377a3049a4f",
       "version_major": 2,
       "version_minor": 0
      },
      "text/plain": [
       "  0%|          | 0/5 [00:00<?, ?it/s]"
      ]
     },
     "metadata": {},
     "output_type": "display_data"
    },
    {
     "data": {
      "text/plain": [
       "<Figure size 640x480 with 0 Axes>"
      ]
     },
     "metadata": {},
     "output_type": "display_data"
    }
   ],
   "source": [
    "#==============1-1==============\n",
    "def prefixAverages1(X, n):\n",
    "    A = np.zeros(n)\n",
    "    for i in range(n):\n",
    "        sum = 0\n",
    "        for j in range(i):\n",
    "            sum += X[j]\n",
    "        A[i] = sum / (i + 1)\n",
    "    return A\n",
    "\n",
    "def prefixAverages2(X, n):\n",
    "    A = np.zeros(n)\n",
    "    sum = 0\n",
    "    for i in range(n):\n",
    "        sum += X[i]\n",
    "        A[i] = sum / (i + 1)\n",
    "    return A\n",
    "\n",
    "n = 2 ** 6\n",
    "slow = np.zeros(1000)\n",
    "optimized = np.zeros(1000)\n",
    "for i in trange(1000):\n",
    "    X = np.random.uniform(0, 1, n)\n",
    "    start = time.perf_counter()\n",
    "    prefixAverages1(X, n)\n",
    "    slow[i] = time.perf_counter() - start\n",
    "\n",
    "    start = time.perf_counter()\n",
    "    prefixAverages2(X, n)\n",
    "    optimized[i] = time.perf_counter() - start\n",
    "\n",
    "plt.hist(slow / optimized, color='red', label='slow / optimized', bins=1000)\n",
    "plt.legend()\n",
    "plt.xlabel(\"Time\")\n",
    "plt.ylabel(\"Freq\")\n",
    "plt.savefig(\"./ratio_hist.jpg\")\n",
    "\n",
    "plt.clf()\n",
    "\n",
    "minTime = list()\n",
    "maxTime = list()\n",
    "avgTime = list()\n",
    "for i in trange(4, 9):\n",
    "    n = 2 ** i\n",
    "    slow = np.zeros(1000)\n",
    "    optimized = np.zeros(1000)\n",
    "    for j in range(1000):\n",
    "        X = np.random.uniform(0, 1, n)\n",
    "        \n",
    "        start = time.perf_counter()\n",
    "        prefixAverages1(X, n)\n",
    "        slow[j] = time.perf_counter() - start\n",
    "        \n",
    "        start = time.perf_counter()\n",
    "        prefixAverages2(X, n)\n",
    "        optimized[j] = time.perf_counter() - start\n",
    "    minTime.append((slow / optimized).min())\n",
    "    maxTime.append((slow / optimized).max())\n",
    "    avgTime.append((slow / optimized).mean())\n",
    "    \n",
    "nSize = [2 ** i for i in range(4, 9)]\n",
    "\n",
    "plt.plot(nSize, minTime, marker='o', label='Min Time')\n",
    "plt.plot(nSize, maxTime, marker='s', label='Max Time')\n",
    "plt.plot(nSize, avgTime, marker='^', label='Average Time')\n",
    "plt.xlabel(\"n\")\n",
    "plt.ylabel(\"time\")\n",
    "plt.xscale(\"log\", base=2)\n",
    "plt.yscale(\"log\")\n",
    "plt.legend()\n",
    "plt.savefig(\"./ratio plot.jpg\")\n",
    "\n",
    "plt.clf()"
   ]
  },
  {
   "cell_type": "code",
   "execution_count": null,
   "metadata": {},
   "outputs": [
    {
     "data": {
      "application/vnd.jupyter.widget-view+json": {
       "model_id": "31c7fd2d9a904f94b41733c7a70153c4",
       "version_major": 2,
       "version_minor": 0
      },
      "text/plain": [
       "  0%|          | 0/1000 [00:00<?, ?it/s]"
      ]
     },
     "metadata": {},
     "output_type": "display_data"
    },
    {
     "data": {
      "application/vnd.jupyter.widget-view+json": {
       "model_id": "4bad424ff5aa41efac358ac5e2fc0343",
       "version_major": 2,
       "version_minor": 0
      },
      "text/plain": [
       "  0%|          | 0/5 [00:00<?, ?it/s]"
      ]
     },
     "metadata": {},
     "output_type": "display_data"
    },
    {
     "data": {
      "text/plain": [
       "<Figure size 640x480 with 0 Axes>"
      ]
     },
     "metadata": {},
     "output_type": "display_data"
    }
   ],
   "source": [
    "#==============1-2==============\n",
    "def movingAverages1(X, n, k):\n",
    "    A = np.zeros(n)\n",
    "    for i in range(n):\n",
    "        if i < k - 1:\n",
    "            A[i] = np.mean(X[:i + 1])\n",
    "        else:\n",
    "            A[i] = np.mean(X[i - k + 1:i + 1])\n",
    "    return A\n",
    "\n",
    "def movingAverages2(X, n, k):\n",
    "    A = np.zeros(n)\n",
    "    move = 0\n",
    "    for i in range(n):\n",
    "        move += X[i]\n",
    "        if k <= i:\n",
    "            move -= X[i - k]\n",
    "        A[i] = move / min(i + 1, k)\n",
    "    return A\n",
    "\n",
    "n = 2 ** 5\n",
    "k = 2 ** 4\n",
    "slow = np.zeros(1000)\n",
    "optimized = np.zeros(1000)\n",
    "for i in trange(1000):\n",
    "    X = np.random.uniform(0, 1, n)\n",
    "    start = time.perf_counter()\n",
    "    movingAverages1(X, n, k)\n",
    "    slow[i] = time.perf_counter() - start\n",
    "\n",
    "    start = time.perf_counter()\n",
    "    movingAverages2(X, n, k)\n",
    "    optimized[i] = time.perf_counter() - start\n",
    "\n",
    "plt.hist(slow / optimized, color='red', label='slow / optimized', bins = 1000)\n",
    "plt.legend()\n",
    "plt.xlabel(\"Time Ratio\")\n",
    "plt.ylabel(\"Freq\")\n",
    "plt.savefig(\"./ratio_hist2.jpg\")\n",
    "\n",
    "plt.clf()\n",
    "\n",
    "minTime = list()\n",
    "maxTime = list()\n",
    "avgTime = list()\n",
    "k = 2 ** 3\n",
    "for i in trange(4, 9):\n",
    "    n = 2 ** i\n",
    "    slow = np.zeros(1000)\n",
    "    optimized = np.zeros(1000)\n",
    "    for j in range(1000):\n",
    "        X = np.random.uniform(0, 1, n)\n",
    "        start = time.perf_counter()\n",
    "        movingAverages1(X, n, k)\n",
    "        slow[j] = time.perf_counter() - start\n",
    "        \n",
    "        start = time.perf_counter()\n",
    "        movingAverages2(X, n, k)\n",
    "        optimized[j] = time.perf_counter() - start\n",
    "    minTime.append((slow / optimized).min())\n",
    "    maxTime.append((slow / optimized).max())\n",
    "    avgTime.append((slow / optimized).mean())\n",
    "    \n",
    "nSize = [2 ** i for i in range(4, 9)]\n",
    "\n",
    "plt.plot(nSize, minTime, marker='o', label='Min Time')\n",
    "plt.plot(nSize, maxTime, marker='s', label='Max Time')\n",
    "plt.plot(nSize, avgTime, marker='^', label='Average Time')\n",
    "plt.xlabel(\"n\")\n",
    "plt.ylabel(\"time\")\n",
    "plt.xscale(\"log\", base=2)\n",
    "plt.yscale(\"log\")\n",
    "plt.legend()\n",
    "plt.savefig(\"./ratio plot2.jpg\")\n",
    "\n",
    "plt.clf()"
   ]
  },
  {
   "cell_type": "code",
   "execution_count": null,
   "metadata": {},
   "outputs": [
    {
     "data": {
      "application/vnd.jupyter.widget-view+json": {
       "model_id": "678c714d137940d39dfd758a354e7809",
       "version_major": 2,
       "version_minor": 0
      },
      "text/plain": [
       "  0%|          | 0/1000 [00:00<?, ?it/s]"
      ]
     },
     "metadata": {},
     "output_type": "display_data"
    },
    {
     "data": {
      "application/vnd.jupyter.widget-view+json": {
       "model_id": "3c41a3df1fd2459688e4c04c93d15b8f",
       "version_major": 2,
       "version_minor": 0
      },
      "text/plain": [
       "  0%|          | 0/1000 [00:00<?, ?it/s]"
      ]
     },
     "metadata": {},
     "output_type": "display_data"
    },
    {
     "data": {
      "application/vnd.jupyter.widget-view+json": {
       "model_id": "134620d0ba3a4ccc897740e95546d80a",
       "version_major": 2,
       "version_minor": 0
      },
      "text/plain": [
       "  0%|          | 0/1000 [00:00<?, ?it/s]"
      ]
     },
     "metadata": {},
     "output_type": "display_data"
    },
    {
     "data": {
      "application/vnd.jupyter.widget-view+json": {
       "model_id": "a3a6381b6ee544c699377dbc14aed52a",
       "version_major": 2,
       "version_minor": 0
      },
      "text/plain": [
       "  0%|          | 0/5 [00:00<?, ?it/s]"
      ]
     },
     "metadata": {},
     "output_type": "display_data"
    },
    {
     "data": {
      "text/plain": [
       "<Figure size 640x480 with 0 Axes>"
      ]
     },
     "metadata": {},
     "output_type": "display_data"
    }
   ],
   "source": [
    "#==============1-3==============\n",
    "def findMissing(A, n):\n",
    "    return (n * (n - 1) // 2) - sum(A)\n",
    "\n",
    "six = np.zeros(1000)\n",
    "n = 2 ** 6\n",
    "for i in trange(1000):\n",
    "    A = list(range(n))\n",
    "    np.random.shuffle(A)\n",
    "    A.pop()\n",
    "    start = time.perf_counter()\n",
    "    findMissing(A, n)\n",
    "    six[i] = time.perf_counter() - start\n",
    "\n",
    "seven = np.zeros(1000)\n",
    "n = 2 ** 7\n",
    "for i in trange(1000):\n",
    "    A = list(range(n))\n",
    "    np.random.shuffle(A)\n",
    "    A.pop()\n",
    "    start = time.perf_counter()\n",
    "    findMissing(A, n)\n",
    "    seven[i] = time.perf_counter() - start\n",
    "\n",
    "plt.hist(seven / six, color='red', label='2^7/2^6')\n",
    "plt.legend()\n",
    "plt.xlabel(\"Time Ratio\")\n",
    "plt.ylabel(\"Freq\")\n",
    "\n",
    "plt.savefig(\"./ratio_hist3.jpg\")\n",
    "plt.clf()\n",
    "\n",
    "three = np.zeros(1000)\n",
    "n = 2 ** 3\n",
    "for i in trange(1000):\n",
    "    A = list(range(n))\n",
    "    np.random.shuffle(A)\n",
    "    A.pop()\n",
    "    start = time.perf_counter()\n",
    "    findMissing(A, n)\n",
    "    three[i] = time.perf_counter() - start\n",
    "\n",
    "minTime = list()\n",
    "maxTime = list()\n",
    "avgTime = list()\n",
    "for i in trange(4, 9):\n",
    "    n = 2 ** i\n",
    "    find = np.zeros(1000)\n",
    "    for j in range(1000):\n",
    "        X = np.random.uniform(0, 1, n)\n",
    "        start = time.perf_counter()\n",
    "        findMissing(X, n)\n",
    "        find[j] = time.perf_counter() - start\n",
    "    minTime.append((find / three).min())\n",
    "    maxTime.append((find / three).max())\n",
    "    avgTime.append((find / three).mean())\n",
    "    \n",
    "nSize = [2 ** i / 2 ** 3 for i in range(4, 9)]\n",
    "\n",
    "plt.plot(nSize, minTime, marker='o', label='Min Time')\n",
    "plt.plot(nSize, maxTime, marker='s', label='Max Time')\n",
    "plt.plot(nSize, avgTime, marker='^', label='Average Time')\n",
    "plt.xlabel(\"2^n/2^3\")\n",
    "plt.ylabel(\"ratio\")\n",
    "plt.xscale(\"log\", base=2)\n",
    "plt.yscale(\"log\")\n",
    "plt.legend()\n",
    "plt.savefig(\"./ratio plot3.jpg\")\n",
    "\n",
    "plt.clf()"
   ]
  },
  {
   "cell_type": "code",
   "execution_count": null,
   "metadata": {},
   "outputs": [
    {
     "data": {
      "application/vnd.jupyter.widget-view+json": {
       "model_id": "6a706325f27c4117a0c950892ca582ba",
       "version_major": 2,
       "version_minor": 0
      },
      "text/plain": [
       "  0%|          | 0/1000 [00:00<?, ?it/s]"
      ]
     },
     "metadata": {},
     "output_type": "display_data"
    },
    {
     "data": {
      "application/vnd.jupyter.widget-view+json": {
       "model_id": "339bf665efa743fcab5789d5e8693af0",
       "version_major": 2,
       "version_minor": 0
      },
      "text/plain": [
       "  0%|          | 0/5 [00:00<?, ?it/s]"
      ]
     },
     "metadata": {},
     "output_type": "display_data"
    },
    {
     "data": {
      "text/plain": [
       "<Figure size 640x480 with 0 Axes>"
      ]
     },
     "metadata": {},
     "output_type": "display_data"
    }
   ],
   "source": [
    "#==============1-4==============\n",
    "def countOnes(A, n):\n",
    "    loc = n - 1\n",
    "    cnt = 0\n",
    "    for i in range(n):\n",
    "        while A[i][loc] == 0:\n",
    "            if loc == 0:\n",
    "                return cnt\n",
    "            loc -= 1\n",
    "        cnt += loc + 1\n",
    "    return cnt\n",
    "\n",
    "def countOnesButSlow(A, n):\n",
    "    c = 0\n",
    "    for i in range(n):\n",
    "        j = 0\n",
    "        while j < n and A[i][j] == 1:\n",
    "            c += 1\n",
    "            j += 1\n",
    "    return c\n",
    "\n",
    "n = 2 ** 6\n",
    "slow = np.zeros(1000)\n",
    "optimized = np.zeros(1000)\n",
    "for i in trange(1000):\n",
    "    A = np.zeros((n, n))\n",
    "    numOfOne = sorted(np.random.randint(0, n + 1, size=n), reverse=True)\n",
    "    for j in range(0, n):\n",
    "        A[j, :numOfOne[j]] = 1\n",
    "    \n",
    "    start = time.perf_counter()\n",
    "    countOnesButSlow(A, n)\n",
    "    slow[i] = time.perf_counter() - start\n",
    "\n",
    "    start = time.perf_counter()\n",
    "    countOnes(A, n)\n",
    "    optimized[i] = time.perf_counter() - start\n",
    "    \n",
    "plt.hist(slow / optimized, color='red', label='countOnesButSlow / countOnes')\n",
    "plt.legend()\n",
    "plt.xlabel(\"Time Ratio\")\n",
    "plt.ylabel(\"Freq\")\n",
    "plt.savefig(\"./ratio_hist4.jpg\")\n",
    "\n",
    "plt.clf()\n",
    "\n",
    "minTime = list()\n",
    "maxTime = list()\n",
    "avgTime = list()\n",
    "for i in trange(4, 9):\n",
    "    n = 2 ** i\n",
    "    slow = np.zeros(1000)\n",
    "    optimized = np.zeros(1000)\n",
    "    for j in range(1000):\n",
    "        A = np.zeros((n, n))\n",
    "        numOfOne = sorted(np.random.randint(0, n + 1, size=n), reverse=True)\n",
    "        for k in range(0, n):\n",
    "            A[k, :numOfOne[k]] = 1\n",
    "        \n",
    "        start = time.perf_counter()\n",
    "        countOnesButSlow(A, n)\n",
    "        slow[j] = time.perf_counter() - start\n",
    "\n",
    "        start = time.perf_counter()\n",
    "        countOnes(A, n)\n",
    "        optimized[j] = time.perf_counter() - start\n",
    "    minTime.append((slow / optimized).min())\n",
    "    maxTime.append((slow / optimized).max())\n",
    "    avgTime.append((slow / optimized).mean())\n",
    "    \n",
    "nSize = [2 ** i for i in range(4, 9)]\n",
    "\n",
    "plt.plot(nSize, minTime, marker='o', label='Min Time')\n",
    "plt.plot(nSize, maxTime, marker='s', label='Max Time')\n",
    "plt.plot(nSize, avgTime, marker='^', label='Average Time')\n",
    "plt.xlabel(\"n\")\n",
    "plt.ylabel(\"ratio\")\n",
    "plt.xscale(\"log\", base=2)\n",
    "plt.yscale(\"log\")\n",
    "plt.legend()\n",
    "plt.savefig(\"./ratio plot4.jpg\")\n",
    "\n",
    "plt.clf()"
   ]
  },
  {
   "cell_type": "code",
   "execution_count": 22,
   "metadata": {},
   "outputs": [
    {
     "name": "stdout",
     "output_type": "stream",
     "text": [
      "computing gcd1(493, 33), computing gcd1(33, 31), computing gcd1(31, 2), computing gcd1(2, 1), and gcd1(493, 33) is 1\n",
      "\n",
      "computing gcd2(493, 33), computing gcd2(460, 33), computing gcd2(427, 33), computing gcd2(394, 33), computing gcd2(361, 33), computing gcd2(328, 33), computing gcd2(295, 33), computing gcd2(262, 33), computing gcd2(229, 33), computing gcd2(196, 33), computing gcd2(163, 33), computing gcd2(130, 33), computing gcd2(97, 33), computing gcd2(64, 33), computing gcd2(31, 33), computing gcd2(31, 2), computing gcd2(29, 2), computing gcd2(27, 2), computing gcd2(25, 2), computing gcd2(23, 2), computing gcd2(21, 2), computing gcd2(19, 2), computing gcd2(17, 2), computing gcd2(15, 2), computing gcd2(13, 2), computing gcd2(11, 2), computing gcd2(9, 2), computing gcd2(7, 2), computing gcd2(5, 2), computing gcd2(3, 2), computing gcd2(1, 2), and gcd2(493, 33) is 1\n",
      "\n",
      "computing gcd1(225, 13), computing gcd1(13, 4), computing gcd1(4, 1), and gcd1(225, 13) is 1\n",
      "\n",
      "computing gcd2(225, 13), computing gcd2(212, 13), computing gcd2(199, 13), computing gcd2(186, 13), computing gcd2(173, 13), computing gcd2(160, 13), computing gcd2(147, 13), computing gcd2(134, 13), computing gcd2(121, 13), computing gcd2(108, 13), computing gcd2(95, 13), computing gcd2(82, 13), computing gcd2(69, 13), computing gcd2(56, 13), computing gcd2(43, 13), computing gcd2(30, 13), computing gcd2(17, 13), computing gcd2(4, 13), computing gcd2(4, 9), computing gcd2(4, 5), computing gcd2(4, 1), computing gcd2(3, 1), computing gcd2(2, 1), and gcd2(225, 13) is 1\n",
      "\n"
     ]
    }
   ],
   "source": [
    "#==============2-1===============\n",
    "def gcd1(a, b):\n",
    "    if b == 0:\n",
    "        return a\n",
    "    \n",
    "    print(f\"computing gcd1({a}, {b}), \", end='')\n",
    "    \n",
    "    return gcd1(b, a % b)\n",
    "\n",
    "def gcd2(a, b):\n",
    "    if a == b:\n",
    "        return a\n",
    "    \n",
    "    print(f\"computing gcd2({a}, {b}), \", end='')\n",
    "    \n",
    "    if a > b:\n",
    "        return gcd2(a - b, b)\n",
    "    else:\n",
    "        return gcd2(a, b - a)\n",
    "\n",
    "print(f\"and gcd1(493, 33) is {gcd1(493, 33)}\")\n",
    "print()\n",
    "print(f\"and gcd2(493, 33) is {gcd2(493, 33)}\")\n",
    "print()\n",
    "print(f\"and gcd1(225, 13) is {gcd1(225, 13)}\")\n",
    "print()\n",
    "print(f\"and gcd2(225, 13) is {gcd2(225, 13)}\")\n",
    "print()"
   ]
  },
  {
   "cell_type": "code",
   "execution_count": 23,
   "metadata": {},
   "outputs": [
    {
     "name": "stdout",
     "output_type": "stream",
     "text": [
      "computing divide(413, 31), computing divide(382, 31), computing divide(351, 31), computing divide(320, 31), computing divide(289, 31), computing divide(258, 31), computing divide(227, 31), computing divide(196, 31), computing divide(165, 31), computing divide(134, 31), computing divide(103, 31), computing divide(72, 31), computing divide(41, 31), and divide(413, 31) is quotient: 13, remainder: 10\n",
      "\n",
      "computing divide(1325, 113), computing divide(1212, 113), computing divide(1099, 113), computing divide(986, 113), computing divide(873, 113), computing divide(760, 113), computing divide(647, 113), computing divide(534, 113), computing divide(421, 113), computing divide(308, 113), computing divide(195, 113), and divide(1325, 113) is quotient: 11, remainder: 82\n",
      "\n"
     ]
    }
   ],
   "source": [
    "#==============2-2===============\n",
    "def divide(a, b):\n",
    "    if a < b:\n",
    "        return (0, a)\n",
    "    \n",
    "    print(f\"computing divide({a}, {b}), \", end='')\n",
    "    \n",
    "    q, r = divide(a - b, b)\n",
    "    return (q + 1, r)\n",
    "\n",
    "q, r = divide(413, 31)\n",
    "print(f\"and divide(413, 31) is quotient: {q}, remainder: {r}\")\n",
    "print()\n",
    "q, r = divide(1325, 113)\n",
    "print(f\"and divide(1325, 113) is quotient: {q}, remainder: {r}\")\n",
    "print()"
   ]
  },
  {
   "cell_type": "code",
   "execution_count": 24,
   "metadata": {},
   "outputs": [
    {
     "name": "stdout",
     "output_type": "stream",
     "text": [
      "[[ 1  2  3  4]\n",
      " [24 25 26  5]\n",
      " [23 40 27  6]\n",
      " [22 39 28  7]\n",
      " [21 38 29  8]\n",
      " [20 37 30  9]\n",
      " [19 36 31 10]\n",
      " [18 35 32 11]\n",
      " [17 34 33 12]\n",
      " [16 15 14 13]]\n"
     ]
    }
   ],
   "source": [
    "#==============3-1===============\n",
    "def spiral(n, m):\n",
    "    A = np.zeros((n, m), dtype=int)\n",
    "    x, y = 0, 0\n",
    "    togo = ((1, 0), (0, 1), (-1, 0), (0, -1))\n",
    "    now = 0\n",
    "    for i in range(1, n * m + 1):\n",
    "        A[y][x] = i\n",
    "        nx, ny = x + togo[now][0], y + togo[now][1]\n",
    "        if m <= nx or n <= ny or A[ny][nx] != 0:\n",
    "            now = (now + 1) % 4\n",
    "        x += togo[now][0]\n",
    "        y += togo[now][1]\n",
    "    return A\n",
    "\n",
    "print(spiral(10, 4))"
   ]
  },
  {
   "cell_type": "code",
   "execution_count": 27,
   "metadata": {},
   "outputs": [
    {
     "data": {
      "application/vnd.jupyter.widget-view+json": {
       "model_id": "65bb895169c6466c96233ae020a14bbc",
       "version_major": 2,
       "version_minor": 0
      },
      "text/plain": [
       "  0%|          | 0/1000000 [00:00<?, ?it/s]"
      ]
     },
     "metadata": {},
     "output_type": "display_data"
    },
    {
     "data": {
      "application/vnd.jupyter.widget-view+json": {
       "model_id": "21d82f2a4e684722995729edea160ae9",
       "version_major": 2,
       "version_minor": 0
      },
      "text/plain": [
       "  0%|          | 0/1000000 [00:00<?, ?it/s]"
      ]
     },
     "metadata": {},
     "output_type": "display_data"
    },
    {
     "data": {
      "text/plain": [
       "<Figure size 640x480 with 0 Axes>"
      ]
     },
     "metadata": {},
     "output_type": "display_data"
    }
   ],
   "source": [
    "#==============3-2===============\n",
    "n = 10 ** 6\n",
    "toHist = np.zeros(n)\n",
    "for i in trange(n):\n",
    "    # A = np.zeros((100, 100))\n",
    "    howMuch = np.random.randint(5, 11)\n",
    "    loc = np.random.choice(range(10000), howMuch, replace=False)\n",
    "    # A.flat[loc] = 1\n",
    "    nonzeroOffset = np.sum(loc)\n",
    "    locOffset = ((howMuch * 2) * (howMuch * 2 - 1)) // 2\n",
    "    toHist[i] = nonzeroOffset / locOffset\n",
    "\n",
    "plt.hist(toHist, color='red', label='offset ratio')\n",
    "plt.legend()\n",
    "plt.xlabel(\"Time Ratio\")\n",
    "plt.ylabel(\"Freq\")\n",
    "\n",
    "plt.savefig(\"./sparse hist1.jpg\")\n",
    "plt.clf()\n",
    "\n",
    "n = 10 ** 6\n",
    "toHist = np.zeros(n)\n",
    "for i in trange(n):\n",
    "    # A = np.zeros((100, 100))\n",
    "    howMuch = np.random.randint(10, 21)\n",
    "    loc = np.random.choice(range(10000), howMuch, replace=False)\n",
    "    # A.flat[loc] = 1\n",
    "    nonzeroOffset = np.sum(loc)\n",
    "    locOffset = ((howMuch * 2) * (howMuch * 2 - 1)) // 2\n",
    "    toHist[i] = nonzeroOffset / locOffset\n",
    "\n",
    "plt.hist(toHist, color='red', label='offset ratio')\n",
    "plt.legend()\n",
    "plt.xlabel(\"Offset Ratio\")\n",
    "plt.ylabel(\"Freq\")\n",
    "\n",
    "plt.savefig(\"./sparse hist2.jpg\")\n",
    "plt.clf()"
   ]
  },
  {
   "cell_type": "code",
   "execution_count": null,
   "metadata": {},
   "outputs": [],
   "source": []
  }
 ],
 "metadata": {
  "kernelspec": {
   "display_name": "AID",
   "language": "python",
   "name": "python3"
  },
  "language_info": {
   "codemirror_mode": {
    "name": "ipython",
    "version": 3
   },
   "file_extension": ".py",
   "mimetype": "text/x-python",
   "name": "python",
   "nbconvert_exporter": "python",
   "pygments_lexer": "ipython3",
   "version": "3.10.15"
  }
 },
 "nbformat": 4,
 "nbformat_minor": 2
}
